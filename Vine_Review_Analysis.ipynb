{
  "nbformat": 4,
  "nbformat_minor": 0,
  "metadata": {
    "colab": {
      "name": "Vine_Review_Analysis.ipynb",
      "provenance": [],
      "collapsed_sections": []
    },
    "kernelspec": {
      "name": "python3",
      "display_name": "Python 3"
    },
    "nteract": {
      "version": "0.12.3"
    },
    "language_info": {
      "name": "python"
    }
  },
  "cells": [
    {
      "cell_type": "code",
      "metadata": {
        "id": "V58rxea0HqSa",
        "colab": {
          "base_uri": "https://localhost:8080/"
        },
        "outputId": "61636ef3-bc28-490c-d00c-cd6791983880"
      },
      "source": [
        "import os\n",
        "# Find the latest version of spark 3.0 from http://www.apache.org/dist/spark/ and enter as the spark version\n",
        "# For example:\n",
        "# spark_version = 'spark-3.0.3'\n",
        "spark_version = 'spark-3.0.3'\n",
        "os.environ['SPARK_VERSION']=spark_version\n",
        "\n",
        "# Install Spark and Java\n",
        "!apt-get update\n",
        "!apt-get install openjdk-11-jdk-headless -qq > /dev/null\n",
        "!wget -q http://www.apache.org/dist/spark/$SPARK_VERSION/$SPARK_VERSION-bin-hadoop2.7.tgz\n",
        "!tar xf $SPARK_VERSION-bin-hadoop2.7.tgz\n",
        "!pip install -q findspark\n",
        "\n",
        "# Set Environment Variables\n",
        "import os\n",
        "os.environ[\"JAVA_HOME\"] = \"/usr/lib/jvm/java-11-openjdk-amd64\"\n",
        "os.environ[\"SPARK_HOME\"] = f\"/content/{spark_version}-bin-hadoop2.7\"\n",
        "\n",
        "# Start a SparkSession\n",
        "import findspark\n",
        "findspark.init()"
      ],
      "execution_count": 1,
      "outputs": [
        {
          "output_type": "stream",
          "name": "stdout",
          "text": [
            "\r0% [Working]\r            \rGet:1 https://cloud.r-project.org/bin/linux/ubuntu bionic-cran40/ InRelease [3,626 B]\n",
            "Ign:2 https://developer.download.nvidia.com/compute/cuda/repos/ubuntu1804/x86_64  InRelease\n",
            "Ign:3 https://developer.download.nvidia.com/compute/machine-learning/repos/ubuntu1804/x86_64  InRelease\n",
            "Get:4 https://developer.download.nvidia.com/compute/cuda/repos/ubuntu1804/x86_64  Release [696 B]\n",
            "Hit:5 https://developer.download.nvidia.com/compute/machine-learning/repos/ubuntu1804/x86_64  Release\n",
            "Get:6 https://developer.download.nvidia.com/compute/cuda/repos/ubuntu1804/x86_64  Release.gpg [836 B]\n",
            "Get:7 http://security.ubuntu.com/ubuntu bionic-security InRelease [88.7 kB]\n",
            "Hit:8 http://archive.ubuntu.com/ubuntu bionic InRelease\n",
            "Get:9 http://ppa.launchpad.net/c2d4u.team/c2d4u4.0+/ubuntu bionic InRelease [15.9 kB]\n",
            "Get:10 http://archive.ubuntu.com/ubuntu bionic-updates InRelease [88.7 kB]\n",
            "Get:11 https://cloud.r-project.org/bin/linux/ubuntu bionic-cran40/ Packages [82.3 kB]\n",
            "Hit:12 http://ppa.launchpad.net/cran/libgit2/ubuntu bionic InRelease\n",
            "Get:13 http://archive.ubuntu.com/ubuntu bionic-backports InRelease [74.6 kB]\n",
            "Get:14 http://ppa.launchpad.net/deadsnakes/ppa/ubuntu bionic InRelease [15.9 kB]\n",
            "Get:16 http://ppa.launchpad.net/graphics-drivers/ppa/ubuntu bionic InRelease [21.3 kB]\n",
            "Get:17 https://developer.download.nvidia.com/compute/cuda/repos/ubuntu1804/x86_64  Packages [952 kB]\n",
            "Get:18 http://ppa.launchpad.net/c2d4u.team/c2d4u4.0+/ubuntu bionic/main Sources [1,831 kB]\n",
            "Get:19 http://security.ubuntu.com/ubuntu bionic-security/main amd64 Packages [2,694 kB]\n",
            "Get:20 http://ppa.launchpad.net/c2d4u.team/c2d4u4.0+/ubuntu bionic/main amd64 Packages [938 kB]\n",
            "Get:21 http://security.ubuntu.com/ubuntu bionic-security/restricted amd64 Packages [884 kB]\n",
            "Get:22 http://security.ubuntu.com/ubuntu bionic-security/universe amd64 Packages [1,490 kB]\n",
            "Get:23 http://archive.ubuntu.com/ubuntu bionic-updates/restricted amd64 Packages [918 kB]\n",
            "Get:24 http://archive.ubuntu.com/ubuntu bionic-updates/main amd64 Packages [3,133 kB]\n",
            "Get:25 http://archive.ubuntu.com/ubuntu bionic-updates/multiverse amd64 Packages [29.8 kB]\n",
            "Get:26 http://archive.ubuntu.com/ubuntu bionic-updates/universe amd64 Packages [2,268 kB]\n",
            "Get:27 http://archive.ubuntu.com/ubuntu bionic-backports/universe amd64 Packages [12.9 kB]\n",
            "Get:28 http://archive.ubuntu.com/ubuntu bionic-backports/main amd64 Packages [12.2 kB]\n",
            "Get:29 http://ppa.launchpad.net/deadsnakes/ppa/ubuntu bionic/main amd64 Packages [45.2 kB]\n",
            "Get:30 http://ppa.launchpad.net/graphics-drivers/ppa/ubuntu bionic/main amd64 Packages [44.3 kB]\n",
            "Fetched 15.6 MB in 8s (1,868 kB/s)\n",
            "Reading package lists... Done\n"
          ]
        }
      ]
    },
    {
      "cell_type": "code",
      "metadata": {
        "id": "_xKwTpATHqSe",
        "colab": {
          "base_uri": "https://localhost:8080/"
        },
        "outputId": "12e8af75-28fe-46d5-c665-42f880058909"
      },
      "source": [
        "# Download the Postgres driver that will allow Spark to interact with Postgres.\n",
        "!wget https://jdbc.postgresql.org/download/postgresql-42.2.16.jar"
      ],
      "execution_count": 2,
      "outputs": [
        {
          "output_type": "stream",
          "name": "stdout",
          "text": [
            "--2022-04-10 00:38:50--  https://jdbc.postgresql.org/download/postgresql-42.2.16.jar\n",
            "Resolving jdbc.postgresql.org (jdbc.postgresql.org)... 72.32.157.228, 2001:4800:3e1:1::228\n",
            "Connecting to jdbc.postgresql.org (jdbc.postgresql.org)|72.32.157.228|:443... connected.\n",
            "HTTP request sent, awaiting response... 200 OK\n",
            "Length: 1002883 (979K) [application/java-archive]\n",
            "Saving to: ‘postgresql-42.2.16.jar’\n",
            "\n",
            "postgresql-42.2.16. 100%[===================>] 979.38K  4.67MB/s    in 0.2s    \n",
            "\n",
            "2022-04-10 00:38:50 (4.67 MB/s) - ‘postgresql-42.2.16.jar’ saved [1002883/1002883]\n",
            "\n"
          ]
        }
      ]
    },
    {
      "cell_type": "code",
      "metadata": {
        "id": "MMqDAjVS0KN9"
      },
      "source": [
        "from pyspark.sql import SparkSession\n",
        "spark = SparkSession.builder.appName(\"M16-Amazon-Challenge\").config(\"spark.driver.extraClassPath\",\"/content/postgresql-42.2.16.jar\").getOrCreate()"
      ],
      "execution_count": 3,
      "outputs": []
    },
    {
      "cell_type": "markdown",
      "metadata": {
        "id": "cyBsySGuY-9V"
      },
      "source": [
        "### Load Amazon Data into Spark DataFrame"
      ]
    },
    {
      "cell_type": "code",
      "metadata": {
        "id": "CtCmBhQJY-9Z",
        "colab": {
          "base_uri": "https://localhost:8080/"
        },
        "outputId": "b486af85-072c-4b68-a97f-96534a8153f3"
      },
      "source": [
        "from pyspark import SparkFiles\n",
        "url = \"https://s3.amazonaws.com/amazon-reviews-pds/tsv/amazon_reviews_us_Pet_Products_v1_00.tsv.gz\"\n",
        "spark.sparkContext.addFile(url)\n",
        "df = spark.read.option(\"encoding\", \"UTF-8\").csv(SparkFiles.get(\"\"), sep=\"\\t\", header=True, inferSchema=True)\n",
        "df.show()"
      ],
      "execution_count": 4,
      "outputs": [
        {
          "output_type": "stream",
          "name": "stdout",
          "text": [
            "+-----------+-----------+--------------+----------+--------------+--------------------+----------------+-----------+-------------+-----------+----+-----------------+--------------------+--------------------+-----------+\n",
            "|marketplace|customer_id|     review_id|product_id|product_parent|       product_title|product_category|star_rating|helpful_votes|total_votes|vine|verified_purchase|     review_headline|         review_body|review_date|\n",
            "+-----------+-----------+--------------+----------+--------------+--------------------+----------------+-----------+-------------+-----------+----+-----------------+--------------------+--------------------+-----------+\n",
            "|         US|   28794885| REAKC26P07MDN|B00Q0K9604|     510387886|(8-Pack) EZwhelp ...|    Pet Products|          5|            0|          0|   N|                Y|A great purchase ...|Best belly bands ...| 2015-08-31|\n",
            "|         US|   11488901|R3NU7OMZ4HQIEG|B00MBW5O9W|     912374672|Warren Eckstein's...|    Pet Products|          2|            0|          1|   N|                Y|My dogs love Hugs...|My dogs love Hugs...| 2015-08-31|\n",
            "|         US|   43214993|R14QJW3XF8QO1P|B0084OHUIO|     902215727|Tyson's True Chew...|    Pet Products|          5|            0|          0|   N|                Y|I have been purch...|I have been purch...| 2015-08-31|\n",
            "|         US|   12835065|R2HB7AX0394ZGY|B001GS71K2|     568880110|Soft Side Pet Cra...|    Pet Products|          5|            0|          0|   N|                Y|it is easy to ope...|It is extremely w...| 2015-08-31|\n",
            "|         US|   26334022| RGKMPDQGSAHR3|B004ABH1LG|     692846826|EliteField 3-Door...|    Pet Products|          5|            0|          0|   N|                Y|           Dog crate|Worked really wel...| 2015-08-31|\n",
            "|         US|   22283621|R1DJCVPQGCV66E|B00AX0LFM4|     590674141|Carlson 68-Inch W...|    Pet Products|          5|            0|          0|   N|                Y|          Five Stars|I love my gates! ...| 2015-08-31|\n",
            "|         US|   14469895|R3V52EAWLPBFQG|B00DQFZGZ0|     688538603|Dog Seat Cover Wi...|    Pet Products|          3|            0|          0|   N|                Y|Seat belt tugs on...|Didn't quite work...| 2015-08-31|\n",
            "|         US|   50896354|R3DKO8J1J28QBI|B00DIRF9US|     742358789|The Bird Catcher ...|    Pet Products|          2|            0|          0|   N|                Y|Great Pole, but S...|I had the origina...| 2015-08-31|\n",
            "|         US|   18440567| R764DBXGRNECG|B00JRCBFUG|     869798483|Cat Bed - Purrfec...|    Pet Products|          5|            1|          1|   N|                N|     My cat loves it|The pad is very s...| 2015-08-31|\n",
            "|         US|   50502362| RW1853GAT0Z9F|B000L3XYZ4|     501118658|PetSafe Drinkwell...|    Pet Products|          5|            0|          0|   N|                Y|          Five Stars|My cat drinks mor...| 2015-08-31|\n",
            "|         US|   33930128|R33GITXNUF1AD4|B00BOEXWFG|     454737777|Contech ZenDog Ca...|    Pet Products|          2|            0|          0|   N|                Y|Also had to pull ...|Much smaller than...| 2015-08-31|\n",
            "|         US|   43534290|R1H7AVM81TAYRV|B001HBBQKY|     420905252|Wellness Crunchy ...|    Pet Products|          1|            2|          2|   N|                Y|DO NOT PURCHASE -...|I used to love th...| 2015-08-31|\n",
            "|         US|   45555864|R2ZOYAQZNNZZWV|B007O1FHB0|     302588963|Rx Vitamins Essen...|    Pet Products|          5|            0|          0|   N|                Y|          Five Stars|Recommended by my...| 2015-08-31|\n",
            "|         US|   11147406|R2FN1H3CGW6J8H|B001P3NU30|     525778264|Virbac C.E.T. Enz...|    Pet Products|          1|            0|          0|   N|                Y|Received wrong pr...|Yes I  ordered fo...| 2015-08-31|\n",
            "|         US|    6495678| RJB41Q575XNG4|B00ZP6HS6S|     414117299|Kitty Shack - 2 i...|    Pet Products|          5|            0|          3|   N|                Y|          Five Stars|      It falls apart| 2015-08-31|\n",
            "|         US|    2019416|R28W8BM1587CPF|B00IP05CUA|     833937853|Wellness Kittles ...|    Pet Products|          5|            0|          0|   N|                Y|kitty is ravenous...|My cat really lov...| 2015-08-31|\n",
            "|         US|   40459386|R1II0M01NIG293|B001U8Y598|      85343577|OmniPet Anti-Ant ...|    Pet Products|          2|            0|          0|   N|                N|Maybe other speci...|This bowl is not ...| 2015-08-31|\n",
            "|         US|   23126800| RMB8N0DBRH34O|B011AY4JWO|     499241195|K9KONNECTION [New...|    Pet Products|          5|            1|          1|   N|                Y|This works, dog n...|I have a small do...| 2015-08-31|\n",
            "|         US|   30238476|R24WB6A6WVIPU6|B00DDSHE5A|     409532388|SUNSEED COMPANY 3...|    Pet Products|          5|            0|          0|   N|                Y|    Yummy for Bunny!|Bunny loves it! E...| 2015-08-31|\n",
            "|         US|   35113999| ROCJSH0P9YSRW|B00PJW5OR8|     259271919|CXB1983(TM)Cute P...|    Pet Products|          5|            0|          0|   N|                Y|excellent price, ...|Petfect,,quality ...| 2015-08-31|\n",
            "+-----------+-----------+--------------+----------+--------------+--------------------+----------------+-----------+-------------+-----------+----+-----------------+--------------------+--------------------+-----------+\n",
            "only showing top 20 rows\n",
            "\n"
          ]
        }
      ]
    },
    {
      "cell_type": "markdown",
      "metadata": {
        "id": "2yUSe55VY-9t"
      },
      "source": [
        "### Create DataFrames to match tables"
      ]
    },
    {
      "cell_type": "code",
      "metadata": {
        "id": "C8REmY1aY-9u",
        "colab": {
          "base_uri": "https://localhost:8080/"
        },
        "outputId": "8de367f0-7a42-4a91-ed80-19c4b3b0ea8f"
      },
      "source": [
        "from pyspark.sql.functions import to_date\n",
        "# Read in the Review dataset as a DataFrame\n",
        "df.show()"
      ],
      "execution_count": 5,
      "outputs": [
        {
          "output_type": "stream",
          "name": "stdout",
          "text": [
            "+-----------+-----------+--------------+----------+--------------+--------------------+----------------+-----------+-------------+-----------+----+-----------------+--------------------+--------------------+-----------+\n",
            "|marketplace|customer_id|     review_id|product_id|product_parent|       product_title|product_category|star_rating|helpful_votes|total_votes|vine|verified_purchase|     review_headline|         review_body|review_date|\n",
            "+-----------+-----------+--------------+----------+--------------+--------------------+----------------+-----------+-------------+-----------+----+-----------------+--------------------+--------------------+-----------+\n",
            "|         US|   28794885| REAKC26P07MDN|B00Q0K9604|     510387886|(8-Pack) EZwhelp ...|    Pet Products|          5|            0|          0|   N|                Y|A great purchase ...|Best belly bands ...| 2015-08-31|\n",
            "|         US|   11488901|R3NU7OMZ4HQIEG|B00MBW5O9W|     912374672|Warren Eckstein's...|    Pet Products|          2|            0|          1|   N|                Y|My dogs love Hugs...|My dogs love Hugs...| 2015-08-31|\n",
            "|         US|   43214993|R14QJW3XF8QO1P|B0084OHUIO|     902215727|Tyson's True Chew...|    Pet Products|          5|            0|          0|   N|                Y|I have been purch...|I have been purch...| 2015-08-31|\n",
            "|         US|   12835065|R2HB7AX0394ZGY|B001GS71K2|     568880110|Soft Side Pet Cra...|    Pet Products|          5|            0|          0|   N|                Y|it is easy to ope...|It is extremely w...| 2015-08-31|\n",
            "|         US|   26334022| RGKMPDQGSAHR3|B004ABH1LG|     692846826|EliteField 3-Door...|    Pet Products|          5|            0|          0|   N|                Y|           Dog crate|Worked really wel...| 2015-08-31|\n",
            "|         US|   22283621|R1DJCVPQGCV66E|B00AX0LFM4|     590674141|Carlson 68-Inch W...|    Pet Products|          5|            0|          0|   N|                Y|          Five Stars|I love my gates! ...| 2015-08-31|\n",
            "|         US|   14469895|R3V52EAWLPBFQG|B00DQFZGZ0|     688538603|Dog Seat Cover Wi...|    Pet Products|          3|            0|          0|   N|                Y|Seat belt tugs on...|Didn't quite work...| 2015-08-31|\n",
            "|         US|   50896354|R3DKO8J1J28QBI|B00DIRF9US|     742358789|The Bird Catcher ...|    Pet Products|          2|            0|          0|   N|                Y|Great Pole, but S...|I had the origina...| 2015-08-31|\n",
            "|         US|   18440567| R764DBXGRNECG|B00JRCBFUG|     869798483|Cat Bed - Purrfec...|    Pet Products|          5|            1|          1|   N|                N|     My cat loves it|The pad is very s...| 2015-08-31|\n",
            "|         US|   50502362| RW1853GAT0Z9F|B000L3XYZ4|     501118658|PetSafe Drinkwell...|    Pet Products|          5|            0|          0|   N|                Y|          Five Stars|My cat drinks mor...| 2015-08-31|\n",
            "|         US|   33930128|R33GITXNUF1AD4|B00BOEXWFG|     454737777|Contech ZenDog Ca...|    Pet Products|          2|            0|          0|   N|                Y|Also had to pull ...|Much smaller than...| 2015-08-31|\n",
            "|         US|   43534290|R1H7AVM81TAYRV|B001HBBQKY|     420905252|Wellness Crunchy ...|    Pet Products|          1|            2|          2|   N|                Y|DO NOT PURCHASE -...|I used to love th...| 2015-08-31|\n",
            "|         US|   45555864|R2ZOYAQZNNZZWV|B007O1FHB0|     302588963|Rx Vitamins Essen...|    Pet Products|          5|            0|          0|   N|                Y|          Five Stars|Recommended by my...| 2015-08-31|\n",
            "|         US|   11147406|R2FN1H3CGW6J8H|B001P3NU30|     525778264|Virbac C.E.T. Enz...|    Pet Products|          1|            0|          0|   N|                Y|Received wrong pr...|Yes I  ordered fo...| 2015-08-31|\n",
            "|         US|    6495678| RJB41Q575XNG4|B00ZP6HS6S|     414117299|Kitty Shack - 2 i...|    Pet Products|          5|            0|          3|   N|                Y|          Five Stars|      It falls apart| 2015-08-31|\n",
            "|         US|    2019416|R28W8BM1587CPF|B00IP05CUA|     833937853|Wellness Kittles ...|    Pet Products|          5|            0|          0|   N|                Y|kitty is ravenous...|My cat really lov...| 2015-08-31|\n",
            "|         US|   40459386|R1II0M01NIG293|B001U8Y598|      85343577|OmniPet Anti-Ant ...|    Pet Products|          2|            0|          0|   N|                N|Maybe other speci...|This bowl is not ...| 2015-08-31|\n",
            "|         US|   23126800| RMB8N0DBRH34O|B011AY4JWO|     499241195|K9KONNECTION [New...|    Pet Products|          5|            1|          1|   N|                Y|This works, dog n...|I have a small do...| 2015-08-31|\n",
            "|         US|   30238476|R24WB6A6WVIPU6|B00DDSHE5A|     409532388|SUNSEED COMPANY 3...|    Pet Products|          5|            0|          0|   N|                Y|    Yummy for Bunny!|Bunny loves it! E...| 2015-08-31|\n",
            "|         US|   35113999| ROCJSH0P9YSRW|B00PJW5OR8|     259271919|CXB1983(TM)Cute P...|    Pet Products|          5|            0|          0|   N|                Y|excellent price, ...|Petfect,,quality ...| 2015-08-31|\n",
            "+-----------+-----------+--------------+----------+--------------+--------------------+----------------+-----------+-------------+-----------+----+-----------------+--------------------+--------------------+-----------+\n",
            "only showing top 20 rows\n",
            "\n"
          ]
        }
      ]
    },
    {
      "cell_type": "code",
      "metadata": {
        "id": "lzMmkdKmY--D",
        "colab": {
          "base_uri": "https://localhost:8080/"
        },
        "outputId": "54698fa3-bdda-4c69-906a-e2896118177b"
      },
      "source": [
        "# Create the vine_table. DataFrame\n",
        "vine_df = df.select([\"review_id\", \"star_rating\", \"helpful_votes\", \"vine\", \"total_votes\", \"verified_purchase\"]).drop_duplicates(['review_id'])\n",
        "vine_df.show()"
      ],
      "execution_count": 6,
      "outputs": [
        {
          "output_type": "stream",
          "name": "stdout",
          "text": [
            "+--------------+-----------+-------------+----+-----------+-----------------+\n",
            "|     review_id|star_rating|helpful_votes|vine|total_votes|verified_purchase|\n",
            "+--------------+-----------+-------------+----+-----------+-----------------+\n",
            "|R101CJ0JBI9J43|          5|            6|   N|          6|                Y|\n",
            "|R101P7GUI5O1WG|          5|            0|   N|          0|                Y|\n",
            "|R102LL91IX39PK|          5|            0|   N|          0|                Y|\n",
            "|R102YVSWWEAP5K|          5|            0|   N|          0|                Y|\n",
            "|R1042WRU1WDUHY|          5|            7|   N|          8|                Y|\n",
            "|R104G7VC1XPVOO|          5|            1|   N|          1|                Y|\n",
            "|R10557FTU9GHY8|          5|            0|   N|          0|                Y|\n",
            "|R105B7Y5ALJ45D|          5|            1|   N|          1|                Y|\n",
            "|R105C41QCCFLIN|          5|            0|   N|          0|                Y|\n",
            "|R105MO44HU33PJ|          5|            0|   N|          0|                Y|\n",
            "|R10685DHJNVEZJ|          2|            0|   N|          0|                Y|\n",
            "|R106BUZ44UVDHE|          4|            0|   N|          0|                Y|\n",
            "|R106K51LXXJPUW|          5|            0|   N|          1|                N|\n",
            "|R106SFDWB44AB7|          5|            0|   N|          0|                Y|\n",
            "|R10788GH1II82B|          4|            0|   N|          0|                Y|\n",
            "|R107GHGGOLZ5BJ|          5|            0|   N|          0|                Y|\n",
            "|R107WIWXTW4YSL|          5|            0|   N|          0|                Y|\n",
            "|R108DOA6BB41HZ|          5|            0|   N|          0|                Y|\n",
            "|R108VYYR4WVDJW|          5|            0|   N|          1|                Y|\n",
            "|R108X7YL6QQ630|          5|            0|   N|          0|                Y|\n",
            "+--------------+-----------+-------------+----+-----------+-----------------+\n",
            "only showing top 20 rows\n",
            "\n"
          ]
        }
      ]
    },
    {
      "cell_type": "code",
      "metadata": {
        "id": "Exuo6ebUsCqW",
        "colab": {
          "base_uri": "https://localhost:8080/"
        },
        "outputId": "5a4f8a9f-1a93-4b8b-af2b-da6c66a491dc"
      },
      "source": [
        "# create df with total_votes greaterthan 20\n",
        "total_votes_df = vine_df.filter(\"total_votes>20\")\n",
        "total_votes_df.show()"
      ],
      "execution_count": 7,
      "outputs": [
        {
          "output_type": "stream",
          "name": "stdout",
          "text": [
            "+--------------+-----------+-------------+----+-----------+-----------------+\n",
            "|     review_id|star_rating|helpful_votes|vine|total_votes|verified_purchase|\n",
            "+--------------+-----------+-------------+----+-----------+-----------------+\n",
            "| R11YMYHSPNGA9|          5|          112|   N|        117|                Y|\n",
            "|R12E1DPQO0PSC5|          5|           55|   N|         57|                N|\n",
            "|R12Q28Q3H61LJ4|          5|           47|   N|         47|                Y|\n",
            "|R12ZZBLV20KHZN|          5|           21|   N|         24|                Y|\n",
            "|R14RP0JIFZOU0F|          1|            9|   N|         26|                Y|\n",
            "|R15ERI6B6F5POS|          5|           27|   N|         29|                Y|\n",
            "|R162U5PSTTFDRY|          5|           30|   N|         31|                N|\n",
            "|R17HY9US9BLH1T|          1|           75|   N|         81|                Y|\n",
            "|R18E8DQJPSW932|          4|           25|   N|         26|                N|\n",
            "|R18YQ6WBZM7CTR|          1|           25|   N|         25|                Y|\n",
            "|R19V1JU0BUV5K4|          5|           46|   N|         48|                Y|\n",
            "|R1A6SE12U7STW5|          5|          124|   N|        128|                Y|\n",
            "|R1B907P87Y5XFR|          1|           44|   N|         46|                Y|\n",
            "|R1CJLZ221OGY95|          1|           30|   N|         33|                Y|\n",
            "|R1CXNO95584QNL|          5|          183|   N|        189|                N|\n",
            "|R1G0WYZ1BU1VJ1|          5|           79|   N|         84|                Y|\n",
            "|R1GMU984E863PS|          4|           59|   N|         63|                N|\n",
            "|R1H0IRPBFCP9CT|          5|           64|   N|         69|                Y|\n",
            "|R1H2B5DPNQGP8G|          5|          114|   N|        119|                Y|\n",
            "|R1HBUEULF37C33|          5|           40|   N|         43|                Y|\n",
            "+--------------+-----------+-------------+----+-----------+-----------------+\n",
            "only showing top 20 rows\n",
            "\n"
          ]
        }
      ]
    },
    {
      "cell_type": "code",
      "source": [
        "# filter df to retrieve all the rows where the number of helpful_votes divided by total_votes is equal to or greater than 50%\n",
        "new_col_df = total_votes_df.withColumn(\"Div\", total_votes_df[\"helpful_votes\"]/total_votes_df[\"total_votes\"])\n",
        "new_df = new_col_df.filter(\"Div>=0.5\")\n",
        "newer_df=new_df.drop(\"Div\")\n",
        "newer_df.show()"
      ],
      "metadata": {
        "colab": {
          "base_uri": "https://localhost:8080/"
        },
        "id": "HjgMvrGlyunQ",
        "outputId": "769f6b0c-8908-435b-d4f5-08b475d1ba7a"
      },
      "execution_count": 8,
      "outputs": [
        {
          "output_type": "stream",
          "name": "stdout",
          "text": [
            "+--------------+-----------+-------------+----+-----------+-----------------+\n",
            "|     review_id|star_rating|helpful_votes|vine|total_votes|verified_purchase|\n",
            "+--------------+-----------+-------------+----+-----------+-----------------+\n",
            "| R11YMYHSPNGA9|          5|          112|   N|        117|                Y|\n",
            "|R12E1DPQO0PSC5|          5|           55|   N|         57|                N|\n",
            "|R12Q28Q3H61LJ4|          5|           47|   N|         47|                Y|\n",
            "|R12ZZBLV20KHZN|          5|           21|   N|         24|                Y|\n",
            "|R15ERI6B6F5POS|          5|           27|   N|         29|                Y|\n",
            "|R162U5PSTTFDRY|          5|           30|   N|         31|                N|\n",
            "|R17HY9US9BLH1T|          1|           75|   N|         81|                Y|\n",
            "|R18E8DQJPSW932|          4|           25|   N|         26|                N|\n",
            "|R18YQ6WBZM7CTR|          1|           25|   N|         25|                Y|\n",
            "|R19V1JU0BUV5K4|          5|           46|   N|         48|                Y|\n",
            "|R1A6SE12U7STW5|          5|          124|   N|        128|                Y|\n",
            "|R1B907P87Y5XFR|          1|           44|   N|         46|                Y|\n",
            "|R1CJLZ221OGY95|          1|           30|   N|         33|                Y|\n",
            "|R1CXNO95584QNL|          5|          183|   N|        189|                N|\n",
            "|R1G0WYZ1BU1VJ1|          5|           79|   N|         84|                Y|\n",
            "|R1GMU984E863PS|          4|           59|   N|         63|                N|\n",
            "|R1H0IRPBFCP9CT|          5|           64|   N|         69|                Y|\n",
            "|R1H2B5DPNQGP8G|          5|          114|   N|        119|                Y|\n",
            "|R1HBUEULF37C33|          5|           40|   N|         43|                Y|\n",
            "|R1HLJ8SJ9EFDL3|          4|          126|   N|        132|                Y|\n",
            "+--------------+-----------+-------------+----+-----------+-----------------+\n",
            "only showing top 20 rows\n",
            "\n"
          ]
        }
      ]
    },
    {
      "cell_type": "code",
      "source": [
        "# filter vine reviews\n",
        "from pyspark.sql.functions import col\n",
        "vine_yes_df = newer_df.filter(col(\"vine\")=='Y')\n",
        "vine_yes_df.show()"
      ],
      "metadata": {
        "colab": {
          "base_uri": "https://localhost:8080/"
        },
        "id": "0OQBtOcozZgl",
        "outputId": "e0e64d92-f1f7-4d4b-d2f6-16acccf97ee0"
      },
      "execution_count": 9,
      "outputs": [
        {
          "output_type": "stream",
          "name": "stdout",
          "text": [
            "+--------------+-----------+-------------+----+-----------+-----------------+\n",
            "|     review_id|star_rating|helpful_votes|vine|total_votes|verified_purchase|\n",
            "+--------------+-----------+-------------+----+-----------+-----------------+\n",
            "|R2XLAQL0E2UPWQ|          4|           33|   Y|         34|                N|\n",
            "|R3F6KXGIFXQ3B6|          4|           40|   Y|         43|                N|\n",
            "| R761OO343LFQW|          3|           82|   Y|         93|                N|\n",
            "|R1XZXTP2UJR37K|          4|          127|   Y|        128|                N|\n",
            "|R1241UCQGRHCNH|          5|           72|   Y|         76|                N|\n",
            "|R1CN8C3E6GNUFO|          1|           29|   Y|         33|                N|\n",
            "|R2D1YV9RG1BD7K|          4|           18|   Y|         22|                N|\n",
            "|R380KQVSEH3PQT|          5|           26|   Y|         28|                N|\n",
            "| RAZ7HBRW7G0AX|          5|          313|   Y|        333|                N|\n",
            "|R21MHBZMJWQL1K|          4|           34|   Y|         36|                N|\n",
            "|R2H8O3GTX08CFP|          3|           29|   Y|         29|                N|\n",
            "|R10A5XNAP2Y4N7|          5|           33|   Y|         36|                N|\n",
            "|R2ZU6I8JDBZ1MC|          4|           43|   Y|         43|                N|\n",
            "|R2F97F5VXIC2LR|          5|           43|   Y|         43|                N|\n",
            "|R1DO1HZMA69EDJ|          5|           57|   Y|         61|                N|\n",
            "|R25FI3J7WWOYXM|          3|           55|   Y|         58|                N|\n",
            "|R219U1ALQIU8OW|          4|           34|   Y|         36|                N|\n",
            "|R223VFL5UNKNI9|          2|           30|   Y|         31|                N|\n",
            "|R1JORBU2J7HG3H|          5|           22|   Y|         25|                N|\n",
            "|R2OIMOX7YNSMEH|          4|           26|   Y|         31|                N|\n",
            "+--------------+-----------+-------------+----+-----------+-----------------+\n",
            "only showing top 20 rows\n",
            "\n"
          ]
        }
      ]
    },
    {
      "cell_type": "code",
      "source": [
        "vine_no_df = newer_df.filter(col(\"vine\")=='N')\n",
        "vine_no_df.show()"
      ],
      "metadata": {
        "colab": {
          "base_uri": "https://localhost:8080/"
        },
        "id": "wSye3oDg4Aoc",
        "outputId": "426c500e-08ec-4066-d4de-cd54a2c91726"
      },
      "execution_count": 10,
      "outputs": [
        {
          "output_type": "stream",
          "name": "stdout",
          "text": [
            "+--------------+-----------+-------------+----+-----------+-----------------+\n",
            "|     review_id|star_rating|helpful_votes|vine|total_votes|verified_purchase|\n",
            "+--------------+-----------+-------------+----+-----------+-----------------+\n",
            "| R11YMYHSPNGA9|          5|          112|   N|        117|                Y|\n",
            "|R12E1DPQO0PSC5|          5|           55|   N|         57|                N|\n",
            "|R12Q28Q3H61LJ4|          5|           47|   N|         47|                Y|\n",
            "|R12ZZBLV20KHZN|          5|           21|   N|         24|                Y|\n",
            "|R15ERI6B6F5POS|          5|           27|   N|         29|                Y|\n",
            "|R162U5PSTTFDRY|          5|           30|   N|         31|                N|\n",
            "|R17HY9US9BLH1T|          1|           75|   N|         81|                Y|\n",
            "|R18E8DQJPSW932|          4|           25|   N|         26|                N|\n",
            "|R18YQ6WBZM7CTR|          1|           25|   N|         25|                Y|\n",
            "|R19V1JU0BUV5K4|          5|           46|   N|         48|                Y|\n",
            "|R1A6SE12U7STW5|          5|          124|   N|        128|                Y|\n",
            "|R1B907P87Y5XFR|          1|           44|   N|         46|                Y|\n",
            "|R1CJLZ221OGY95|          1|           30|   N|         33|                Y|\n",
            "|R1CXNO95584QNL|          5|          183|   N|        189|                N|\n",
            "|R1G0WYZ1BU1VJ1|          5|           79|   N|         84|                Y|\n",
            "|R1GMU984E863PS|          4|           59|   N|         63|                N|\n",
            "|R1H0IRPBFCP9CT|          5|           64|   N|         69|                Y|\n",
            "|R1H2B5DPNQGP8G|          5|          114|   N|        119|                Y|\n",
            "|R1HBUEULF37C33|          5|           40|   N|         43|                Y|\n",
            "|R1HLJ8SJ9EFDL3|          4|          126|   N|        132|                Y|\n",
            "+--------------+-----------+-------------+----+-----------+-----------------+\n",
            "only showing top 20 rows\n",
            "\n"
          ]
        }
      ]
    },
    {
      "cell_type": "code",
      "source": [
        "# calculate total # of reviews, # of 5 star reviews and % of 5 star reviews for YES reviews\n",
        "total_reviews = vine_yes_df.agg({\"review_id\": \"count\"})\n",
        "total_reviews.show()\n",
        "five_starsYes = vine_yes_df.filter(\"star_rating=5\").agg({\"star_rating\": \"count\"})\n",
        "five_starsYes.show()\n",
        "\n"
      ],
      "metadata": {
        "id": "G6xFY-Rc4iLw",
        "colab": {
          "base_uri": "https://localhost:8080/"
        },
        "outputId": "2a3cd48a-c8d0-490e-ae4a-d34de6a0e9de"
      },
      "execution_count": 17,
      "outputs": [
        {
          "output_type": "stream",
          "name": "stdout",
          "text": [
            "+----------------+\n",
            "|count(review_id)|\n",
            "+----------------+\n",
            "|             162|\n",
            "+----------------+\n",
            "\n",
            "+------------------+\n",
            "|count(star_rating)|\n",
            "+------------------+\n",
            "|                63|\n",
            "+------------------+\n",
            "\n"
          ]
        },
        {
          "output_type": "execute_result",
          "data": {
            "text/plain": [
              "Column<b'((count(star_rating) / count(review_id)) * 100)'>"
            ]
          },
          "metadata": {},
          "execution_count": 17
        }
      ]
    },
    {
      "cell_type": "code",
      "source": [
        "Yes_percent = five_starsYes.collect()[0][0]/total_reviews.collect()[0][0]*100\n",
        "Yes_percent"
      ],
      "metadata": {
        "colab": {
          "base_uri": "https://localhost:8080/"
        },
        "id": "EdKpV_v__8uT",
        "outputId": "15d2cdc7-f565-4ae5-f2ee-5c7bf3f3d682"
      },
      "execution_count": 20,
      "outputs": [
        {
          "output_type": "execute_result",
          "data": {
            "text/plain": [
              "38.88888888888889"
            ]
          },
          "metadata": {},
          "execution_count": 20
        }
      ]
    },
    {
      "cell_type": "code",
      "source": [
        "# calculate total # of reviews, # of 5 star reviews and % of 5 star reviews for NO reviews\n",
        "total_reviews = vine_no_df.agg({\"review_id\": \"count\"})\n",
        "total_reviews.show()\n",
        "five_starsNo = vine_no_df.filter(\"star_rating=5\").agg({\"star_rating\": \"count\"})\n",
        "five_starsNo.show()\n",
        "No_percent = five_starsNo.collect()[0][0]/total_reviews.collect()[0][0]*100\n",
        "No_percent"
      ],
      "metadata": {
        "colab": {
          "base_uri": "https://localhost:8080/"
        },
        "id": "Y-V-1bFW9BIE",
        "outputId": "d376599e-528a-4873-f567-fd5b830063e9"
      },
      "execution_count": 21,
      "outputs": [
        {
          "output_type": "stream",
          "name": "stdout",
          "text": [
            "+----------------+\n",
            "|count(review_id)|\n",
            "+----------------+\n",
            "|           35606|\n",
            "+----------------+\n",
            "\n",
            "+------------------+\n",
            "|count(star_rating)|\n",
            "+------------------+\n",
            "|             19444|\n",
            "+------------------+\n",
            "\n"
          ]
        },
        {
          "output_type": "execute_result",
          "data": {
            "text/plain": [
              "54.60877380216817"
            ]
          },
          "metadata": {},
          "execution_count": 21
        }
      ]
    },
    {
      "cell_type": "code",
      "source": [
        ""
      ],
      "metadata": {
        "id": "6PvWainbBh4J"
      },
      "execution_count": null,
      "outputs": []
    }
  ]
}